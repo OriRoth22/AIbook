{
  "nbformat": 4,
  "nbformat_minor": 0,
  "metadata": {
    "colab": {
      "provenance": [],
      "toc_visible": true,
      "include_colab_link": true
    },
    "kernelspec": {
      "name": "python3",
      "display_name": "Python 3"
    },
    "language_info": {
      "name": "python"
    }
  },
  "cells": [
    {
      "cell_type": "markdown",
      "metadata": {
        "id": "view-in-github",
        "colab_type": "text"
      },
      "source": [
        "<a href=\"https://colab.research.google.com/github/OriRoth22/AIbook/blob/master/ImageProcessingEx_03_BinaryImages.ipynb\" target=\"_parent\"><img src=\"https://colab.research.google.com/assets/colab-badge.svg\" alt=\"Open In Colab\"/></a>"
      ]
    },
    {
      "cell_type": "markdown",
      "source": [
        "# Image Processing Assignment 3: Binary images\n",
        "\n",
        "Before we start, please put your names and IDs in following format\n",
        "\n",
        ": Firstname LASTNAME, #00000000   //   (e.g.) Dana LEVI, #12345678"
      ],
      "metadata": {
        "id": "XM5Obno8XUga"
      }
    },
    {
      "cell_type": "markdown",
      "source": [
        "**Your Answer:**   \n",
        "Xxxxx XXXXX, #nnnnnn"
      ],
      "metadata": {
        "id": "GbhV7iHQLOkf"
      }
    },
    {
      "cell_type": "markdown",
      "metadata": {
        "button": false,
        "deletable": true,
        "id": "BRIqwJUr2HuN",
        "new_sheet": false,
        "run_control": {
          "read_only": false
        }
      },
      "source": [
        "In this exercise, you will implement **Binary Images** algorithms.\n",
        "\n",
        "Methods: as explained in class.\n",
        "\n",
        "Notes:\n",
        "*   Write your code in the dedicated areas (TODO blocks). You can add helper functions.\n",
        "*   Submission email should include a link to the Colab submission notebook located on your Google Drive with Commenter access right to nev1958a@gmail.com\n",
        "*   The solution notebook should be able to be run (‘Run all’) with no errors.\n",
        "In case of errors, the submission will be disqualified.\n",
        "*   The grade will depend on correct performance on several grayscale images and on clean programming and documentation.\n",
        "*   Do not forget to add the Names and Student I.D. at the top of the notebook.\n",
        "*   All images are given as 2-dimensional matrices of type `float`, with values in the range [0..1].\n",
        "*   Pay Attention! In the following functions, the returned images must be the same size as the original Images!\n",
        "\n",
        "Please implement the following functions:\n",
        "1. Write the `tag_connected_components` function which finds the connected components in a binary image and returns a matrix with the same size in which each connected component is tagged with a different label. The tags should be sequential.\n",
        "2. Write the `skeletonizeImage` function which skeletonizes objects in a given binary image and returns the new binary image.\n",
        "\n",
        "**Note** In these images, **1** represents the object, and **0** (black) represents the background."
      ]
    },
    {
      "cell_type": "markdown",
      "metadata": {
        "button": false,
        "deletable": true,
        "id": "MzqbYcKdz6ew",
        "new_sheet": false,
        "run_control": {
          "read_only": false
        }
      },
      "source": [
        "## Setup Code\n",
        "Before getting started, we need to run some boilerplate code to set up our environment. You will need to rerun this setup code each time you start the notebook."
      ]
    },
    {
      "cell_type": "code",
      "execution_count": 1,
      "metadata": {
        "button": false,
        "deletable": true,
        "id": "omkktd9ywDxp",
        "jupyter": {
          "outputs_hidden": false
        },
        "new_sheet": false,
        "run_control": {
          "read_only": false
        }
      },
      "outputs": [],
      "source": [
        "import os\n",
        "import requests\n",
        "from io import BytesIO\n",
        "import numpy as np\n",
        "import matplotlib.pyplot as plt\n",
        "import PIL"
      ]
    },
    {
      "cell_type": "code",
      "source": [
        "GITHUB_PATH = 'https://raw.githubusercontent.com/dnevo/ImageProcessing/main/images/'"
      ],
      "metadata": {
        "id": "FUrQ_WDwOWV2"
      },
      "execution_count": 2,
      "outputs": []
    },
    {
      "cell_type": "code",
      "execution_count": 3,
      "metadata": {
        "button": false,
        "deletable": true,
        "id": "mlvjNCPxvmUE",
        "jupyter": {
          "outputs_hidden": false
        },
        "new_sheet": false,
        "run_control": {
          "read_only": false
        }
      },
      "outputs": [],
      "source": [
        "def read_file(file_name:str, file_path:str=GITHUB_PATH) -> np.ndarray:\n",
        "    '''\n",
        "    Accept an image file name (defaulty located in GitHub) and return the image\n",
        "    in a numpy array.\n",
        "\n",
        "    Args:\n",
        "        file_name: the file name\n",
        "        file_path: the file path.. Default value is Doron's Github repo.\n",
        "\n",
        "    Returns:\n",
        "        the image converted into a Numpy array.\n",
        "    '''\n",
        "    file_path = os.path.join(file_path, file_name)\n",
        "    response = requests.get(file_path)\n",
        "    fp = BytesIO(response.content)\n",
        "\n",
        "    img_pil = PIL.Image.open(fp)\n",
        "    return np.array(img_pil, dtype='int16')"
      ]
    },
    {
      "cell_type": "code",
      "source": [
        "def pretty_print(img):\n",
        "    ''' pretty printing of binary imagees and connected components - by\n",
        "    replacing zeros with whitespaces.\n",
        "    Args:\n",
        "        img: image in float format (range: 0..1) - the source binary image\n",
        "        file_path: the file path.. Default value is Doron's Github repo.\n",
        "\n",
        "    Returns:\n",
        "        the image converted into a Numpy array.\n",
        "    '''\n",
        "    for r in range(img.shape[0]):\n",
        "        l = [str(img[r,c].astype(np.int16)) if img[r,c]>0 else ' ' for c in range(img.shape[1])]\n",
        "        print(''.join(map(str, l)))"
      ],
      "metadata": {
        "id": "9zqqPou5V102"
      },
      "execution_count": 4,
      "outputs": []
    },
    {
      "cell_type": "code",
      "source": [
        "def plot_images(img1:np.array, img2:np.array):\n",
        "    fig, axes = plt.subplots(nrows=1, ncols=2, figsize=(14, 6))\n",
        "    axes[0].imshow(img1,  cmap='gray')\n",
        "    axes[1].imshow(img2,  cmap='gray')"
      ],
      "metadata": {
        "id": "UTUdrIWIgRet"
      },
      "execution_count": 5,
      "outputs": []
    },
    {
      "cell_type": "markdown",
      "source": [
        "## `tag_connected_components`"
      ],
      "metadata": {
        "id": "7aMsm217SCXe"
      }
    },
    {
      "cell_type": "code",
      "source": [
        "def check_neigbors(ing_new,burn,ans,i,j,tag) -> bool:\n",
        "  burn [i,j]=1\n",
        "  ans[i,j]=tag\n",
        "  if i>0 and ing_new[i-1,j]==1 and burn[i-1,j]==0:\n",
        "    check_neigbors(ing_new,burn,ans,i-1,j,tag)\n",
        "  if j>0 and ing_new[i,j-1]==1 and burn[i,j-1]==0:\n",
        "    check_neigbors(ing_new,burn,ans,i,j-1,tag)\n",
        "  if i>0 and ing_new[i+1,j]==1 and burn[i+1,j]==0:\n",
        "    check_neigbors(ing_new,burn,ans,i+1,j,tag)\n",
        "  if j>0 and ing_new[i,j+1]==1 and burn[i,j+1]==0:\n",
        "    check_neigbors(ing_new,burn,ans,i,j+1,tag)\n",
        "\n",
        "  return ans\n",
        "\n",
        "\n",
        ""
      ],
      "metadata": {
        "id": "HJ2Pkx_jCv2g"
      },
      "execution_count": 12,
      "outputs": []
    },
    {
      "cell_type": "code",
      "source": [
        "def tag_connected_components(img: np.array) -> np.array:\n",
        "    '''\n",
        "    This function receives a binary image and finds the connected components\n",
        "    in it and returns a matrix with the same size in which each connected\n",
        "    componnent is tagged with a different label. The tags should be sequential.\n",
        "\n",
        "    Args:\n",
        "        img: image in float format (range: 0..1) - the source binary image\n",
        "\n",
        "    Returns:\n",
        "        img_new: in float format - the image with components tagging in a\n",
        "        2-dimensional matrice\n",
        "    '''\n",
        "    img_new= procces_img(img)\n",
        "    return img_new\n",
        "\n",
        "def procces_img(img: np.array) -> np.array:\n",
        "  ing_new = img.copy()\n",
        "  burn= np.zeros(img.shape)\n",
        "  ans= np.zeros(img.shape)\n",
        "  tag = 1\n",
        "  for i in range (len (ing_new)):\n",
        "    for j in range (len(ing_new[0])):\n",
        "      if ing_new[i,j]==1:\n",
        "        if burn [i,j]==0:\n",
        "          ans = check_neigbors(ing_new,burn,ans,i,j,tag)\n",
        "          tag+=1\n",
        "\n",
        "  return ans"
      ],
      "metadata": {
        "id": "MVwUlI0hf2re"
      },
      "execution_count": 16,
      "outputs": []
    },
    {
      "cell_type": "code",
      "source": [
        "img = np.array([[0,0,0,0,0,0,0,0,0],\n",
        "       [0,1,0,0,0,1,0,0,0],\n",
        "       [0,1,0,1,0,1,0,1,0],\n",
        "       [0,1,0,1,0,1,0,1,0],\n",
        "       [0,1,1,1,1,1,0,1,0],\n",
        "       [0,0,0,0,0,0,0,1,0],\n",
        "       [0,0,0,0,1,1,1,1,0],\n",
        "       [0,0,0,0,0,0,0,0,0]])\n",
        "img_n = tag_connected_components(img)\n",
        "plot_images(img, img_n)"
      ],
      "metadata": {
        "id": "XUSfSfbkh8xc",
        "colab": {
          "base_uri": "https://localhost:8080/",
          "height": 446
        },
        "outputId": "526297c9-f30f-4811-9eac-488c0ebe04df"
      },
      "execution_count": 17,
      "outputs": [
        {
          "output_type": "display_data",
          "data": {
            "text/plain": [
              "<Figure size 1400x600 with 2 Axes>"
            ],
            "image/png": "[encoded data removed]"
          },
          "metadata": {}
        }
      ]
    },
    {
      "cell_type": "code",
      "source": [
        "pretty_print(img_n)"
      ],
      "metadata": {
        "colab": {
          "base_uri": "https://localhost:8080/"
        },
        "id": "EtkMrMacSiit",
        "outputId": "4bfa193e-2721-4b03-d82f-93a8c30cfbbe"
      },
      "execution_count": 18,
      "outputs": [
        {
          "output_type": "stream",
          "name": "stdout",
          "text": [
            "         \n",
            " 1   1   \n",
            " 1 1 1 2 \n",
            " 1 1 1 2 \n",
            " 11111 2 \n",
            "       2 \n",
            "    2222 \n",
            "         \n"
          ]
        }
      ]
    },
    {
      "cell_type": "code",
      "source": [
        "img = read_file('binary1.tiff') / 255\n",
        "img_n = tag_connected_components(img)\n",
        "plot_images(img, img_n)"
      ],
      "metadata": {
        "id": "6Vjh_l2Sh0dK",
        "outputId": "84e6e88d-6595-4bea-d231-b35905ec27d5",
        "colab": {
          "base_uri": "https://localhost:8080/",
          "height": 475
        }
      },
      "execution_count": 19,
      "outputs": [
        {
          "output_type": "display_data",
          "data": {
            "text/plain": [
              "<Figure size 1400x600 with 2 Axes>"
            ],
            "image/png": "[encoded data removed]"
          },
          "metadata": {}
        }
      ]
    },
    {
      "cell_type": "code",
      "source": [
        "pretty_print(img_n)"
      ],
      "metadata": {
        "id": "YrJuhifBwbBv",
        "outputId": "95f708b6-f4c9-48a8-8d47-e5e86ef81bbb",
        "colab": {
          "base_uri": "https://localhost:8080/"
        }
      },
      "execution_count": 20,
      "outputs": [
        {
          "output_type": "stream",
          "name": "stdout",
          "text": [
            "                              \n",
            "    1111111111     2 2 2      \n",
            "    1111111111     2 2 2      \n",
            "    11      11     2 2 2      \n",
            "    11 33   11    222222      \n",
            "    11 33   11     2 2 2      \n",
            "    11      11     2 2 2      \n",
            "    1111111111     2 2 2      \n",
            "    1111111111                \n",
            "                              \n",
            "                       4      \n",
            "                       4      \n",
            "         444444444444444      \n",
            "         4                    \n",
            "         4                    \n",
            "         4    4444444444      \n",
            "         4    4        4      \n",
            "         4    4        4      \n",
            "         4    4  4444  4      \n",
            "         4    4  4  4  4      \n",
            "         4    4  4  4  4      \n",
            "         4    4     4  4      \n",
            "         4    4     4  4      \n",
            "         4    4444444  4      \n",
            "         4             4      \n",
            "         4             4      \n",
            "         444444444444444      \n",
            "                              \n",
            "                              \n",
            "                              \n"
          ]
        }
      ]
    },
    {
      "cell_type": "code",
      "source": [
        "img = read_file('binary2.tiff') / 255\n",
        "img_n = tag_connected_components(img)\n",
        "plot_images(img, img_n)"
      ],
      "metadata": {
        "id": "O1bG2p3HYspp",
        "outputId": "77ee590c-5967-4471-dad7-8b3db6f5f2d9",
        "colab": {
          "base_uri": "https://localhost:8080/",
          "height": 475
        }
      },
      "execution_count": 21,
      "outputs": [
        {
          "output_type": "display_data",
          "data": {
            "text/plain": [
              "<Figure size 1400x600 with 2 Axes>"
            ],
            "image/png": "[encoded data removed]"
          },
          "metadata": {}
        }
      ]
    },
    {
      "cell_type": "code",
      "source": [
        "pretty_print(img_n)"
      ],
      "metadata": {
        "id": "JSxBtVFvYspq",
        "outputId": "ca43d7c4-d6a2-4da7-b845-2365bd348f17",
        "colab": {
          "base_uri": "https://localhost:8080/"
        }
      },
      "execution_count": 22,
      "outputs": [
        {
          "output_type": "stream",
          "name": "stdout",
          "text": [
            "                                   \n",
            "                                   \n",
            "                                   \n",
            "                     1111111       \n",
            "    2                1111111       \n",
            "                     11   11       \n",
            "                     11   11       \n",
            "         3333        11   11       \n",
            "         3333        11   1111     \n",
            "         3333        11   1111     \n",
            "         33333       11   1111     \n",
            "         33333       111111111     \n",
            "         33333       111111111     \n",
            "         33333       111111111     \n",
            "         33333                     \n",
            "         33333                     \n",
            "         33333                     \n",
            "                                   \n",
            "                                   \n",
            "                                   \n",
            "    4                              \n",
            "    4           5   5   5   5   5  \n",
            "    4           5   5   5   5   5  \n",
            "    4           5   5   5   5   5  \n",
            "    4           5   5   5   5   5  \n",
            "    4           5   5   5   5   5  \n",
            "    4           5   5   5   5   5  \n",
            "    4           5   5   5   5   5  \n",
            "    4           5   5   5   5   5  \n",
            "    4           5   5   5   5   5  \n",
            "    4           5   5   5   5   5  \n",
            "    44444       55555555555555555  \n",
            "                                   \n",
            "                                   \n",
            "                                   \n"
          ]
        }
      ]
    },
    {
      "cell_type": "markdown",
      "source": [
        "## `skeletonizeImage `"
      ],
      "metadata": {
        "id": "sDEfY6srn2IG"
      }
    },
    {
      "cell_type": "code",
      "source": [
        "def give_value(img_new,img, i,j) -> np.array:\n",
        "    a= np.min(img[i-1,j],img[i+1,j])\n",
        "\n",
        "    b= np.min (img[i,j-1]   , img[i,j+1])\n",
        "    img_new[i,j]= np.min( b, a)+1\n",
        "    return img_new"
      ],
      "metadata": {
        "id": "ByElMbuFIruR"
      },
      "execution_count": 28,
      "outputs": []
    },
    {
      "cell_type": "code",
      "source": [
        "def skeletonizeImage (img: np.array) -> np.array:\n",
        "    '''\n",
        "    This function receives a binary image and finds the connected components\n",
        "    in it and returns a new binary image with skeletonize objects.\n",
        "\n",
        "    Args:\n",
        "        img: image in float format (range: 0..1) - the source binary image\n",
        "\n",
        "    Returns:\n",
        "        img_new: in float format (range: 0..1) - the image with skeleton\n",
        "                    in a 2 dimensional matrice.\n",
        "    '''\n",
        "    ans = img_new = np.zeros(img.shape)\n",
        "    img_new= img.copy()\n",
        "    for i in range (len (img)):\n",
        "      for j in range (len(img[0])):\n",
        "        if img[i,j]==1:\n",
        "          img_new= give_value(img_new,img,i,j)\n",
        "\n",
        "    print (img_new)\n",
        "    return img_new"
      ],
      "metadata": {
        "id": "3SVt3jZ_n2II"
      },
      "execution_count": 29,
      "outputs": []
    },
    {
      "cell_type": "code",
      "source": [
        "img = np.array([[0,0,0,0,0,0,0,0,0],\n",
        "                [0,1,1,1,1,1,1,1,0],\n",
        "                [0,1,1,1,1,1,1,1,0],\n",
        "                [0,1,1,1,1,1,1,1,0],\n",
        "                [0,0,0,1,1,1,0,0,0],\n",
        "                [0,0,0,1,1,1,0,0,0],\n",
        "                [0,0,0,1,1,1,0,0,0],\n",
        "                [0,0,0,1,1,1,0,0,0],\n",
        "                [0,0,0,0,0,0,0,0,0]])\n",
        "img_new = skeletonizeImage(img)\n",
        "plot_images(img, img_new)"
      ],
      "metadata": {
        "id": "NkGwE2Rfz6G7",
        "outputId": "c2dbffd3-a918-4e13-d524-20bd62223510",
        "colab": {
          "base_uri": "https://localhost:8080/",
          "height": 351
        }
      },
      "execution_count": 30,
      "outputs": [
        {
          "output_type": "error",
          "ename": "AxisError",
          "evalue": "axis 1 is out of bounds for array of dimension 0",
          "traceback": [
            "\u001b[0;31m---------------------------------------------------------------------------\u001b[0m",
            "\u001b[0;31mAxisError\u001b[0m                                 Traceback (most recent call last)",
            "\u001b[0;32m<ipython-input-30-6cfbed27d254>\u001b[0m in \u001b[0;36m<cell line: 10>\u001b[0;34m()\u001b[0m\n\u001b[1;32m      8\u001b[0m                 \u001b[0;34m[\u001b[0m\u001b[0;36m0\u001b[0m\u001b[0;34m,\u001b[0m\u001b[0;36m0\u001b[0m\u001b[0;34m,\u001b[0m\u001b[0;36m0\u001b[0m\u001b[0;34m,\u001b[0m\u001b[0;36m1\u001b[0m\u001b[0;34m,\u001b[0m\u001b[0;36m1\u001b[0m\u001b[0;34m,\u001b[0m\u001b[0;36m1\u001b[0m\u001b[0;34m,\u001b[0m\u001b[0;36m0\u001b[0m\u001b[0;34m,\u001b[0m\u001b[0;36m0\u001b[0m\u001b[0;34m,\u001b[0m\u001b[0;36m0\u001b[0m\u001b[0;34m]\u001b[0m\u001b[0;34m,\u001b[0m\u001b[0;34m\u001b[0m\u001b[0;34m\u001b[0m\u001b[0m\n\u001b[1;32m      9\u001b[0m                 [0,0,0,0,0,0,0,0,0]])\n\u001b[0;32m---> 10\u001b[0;31m \u001b[0mimg_new\u001b[0m \u001b[0;34m=\u001b[0m \u001b[0mskeletonizeImage\u001b[0m\u001b[0;34m(\u001b[0m\u001b[0mimg\u001b[0m\u001b[0;34m)\u001b[0m\u001b[0;34m\u001b[0m\u001b[0;34m\u001b[0m\u001b[0m\n\u001b[0m\u001b[1;32m     11\u001b[0m \u001b[0mplot_images\u001b[0m\u001b[0;34m(\u001b[0m\u001b[0mimg\u001b[0m\u001b[0;34m,\u001b[0m \u001b[0mimg_new\u001b[0m\u001b[0;34m)\u001b[0m\u001b[0;34m\u001b[0m\u001b[0;34m\u001b[0m\u001b[0m\n",
            "\u001b[0;32m<ipython-input-29-b4fe0809f43d>\u001b[0m in \u001b[0;36mskeletonizeImage\u001b[0;34m(img)\u001b[0m\n\u001b[1;32m     16\u001b[0m       \u001b[0;32mfor\u001b[0m \u001b[0mj\u001b[0m \u001b[0;32min\u001b[0m \u001b[0mrange\u001b[0m \u001b[0;34m(\u001b[0m\u001b[0mlen\u001b[0m\u001b[0;34m(\u001b[0m\u001b[0mimg\u001b[0m\u001b[0;34m[\u001b[0m\u001b[0;36m0\u001b[0m\u001b[0;34m]\u001b[0m\u001b[0;34m)\u001b[0m\u001b[0;34m)\u001b[0m\u001b[0;34m:\u001b[0m\u001b[0;34m\u001b[0m\u001b[0;34m\u001b[0m\u001b[0m\n\u001b[1;32m     17\u001b[0m         \u001b[0;32mif\u001b[0m \u001b[0mimg\u001b[0m\u001b[0;34m[\u001b[0m\u001b[0mi\u001b[0m\u001b[0;34m,\u001b[0m\u001b[0mj\u001b[0m\u001b[0;34m]\u001b[0m\u001b[0;34m==\u001b[0m\u001b[0;36m1\u001b[0m\u001b[0;34m:\u001b[0m\u001b[0;34m\u001b[0m\u001b[0;34m\u001b[0m\u001b[0m\n\u001b[0;32m---> 18\u001b[0;31m           \u001b[0mimg_new\u001b[0m\u001b[0;34m=\u001b[0m \u001b[0mgive_value\u001b[0m\u001b[0;34m(\u001b[0m\u001b[0mimg_new\u001b[0m\u001b[0;34m,\u001b[0m\u001b[0mi\u001b[0m\u001b[0;34m,\u001b[0m\u001b[0mj\u001b[0m\u001b[0;34m)\u001b[0m\u001b[0;34m\u001b[0m\u001b[0;34m\u001b[0m\u001b[0m\n\u001b[0m\u001b[1;32m     19\u001b[0m \u001b[0;34m\u001b[0m\u001b[0m\n\u001b[1;32m     20\u001b[0m     \u001b[0mprint\u001b[0m \u001b[0;34m(\u001b[0m\u001b[0mimg_new\u001b[0m\u001b[0;34m)\u001b[0m\u001b[0;34m\u001b[0m\u001b[0;34m\u001b[0m\u001b[0m\n",
            "\u001b[0;32m<ipython-input-28-db4ec9dd5617>\u001b[0m in \u001b[0;36mgive_value\u001b[0;34m(img_new, i, j)\u001b[0m\n\u001b[1;32m      1\u001b[0m \u001b[0;32mdef\u001b[0m \u001b[0mgive_value\u001b[0m\u001b[0;34m(\u001b[0m\u001b[0mimg_new\u001b[0m\u001b[0;34m,\u001b[0m\u001b[0mi\u001b[0m\u001b[0;34m,\u001b[0m\u001b[0mj\u001b[0m\u001b[0;34m)\u001b[0m \u001b[0;34m->\u001b[0m \u001b[0mnp\u001b[0m\u001b[0;34m.\u001b[0m\u001b[0marray\u001b[0m\u001b[0;34m:\u001b[0m\u001b[0;34m\u001b[0m\u001b[0;34m\u001b[0m\u001b[0m\n\u001b[0;32m----> 2\u001b[0;31m     \u001b[0mimg_new\u001b[0m\u001b[0;34m[\u001b[0m\u001b[0mi\u001b[0m\u001b[0;34m,\u001b[0m\u001b[0mj\u001b[0m\u001b[0;34m]\u001b[0m\u001b[0;34m=\u001b[0m \u001b[0mnp\u001b[0m\u001b[0;34m.\u001b[0m\u001b[0mmin\u001b[0m\u001b[0;34m(\u001b[0m\u001b[0mimg_new\u001b[0m\u001b[0;34m[\u001b[0m\u001b[0mi\u001b[0m\u001b[0;34m-\u001b[0m\u001b[0;36m1\u001b[0m\u001b[0;34m,\u001b[0m\u001b[0mj\u001b[0m\u001b[0;34m]\u001b[0m\u001b[0;34m,\u001b[0m\u001b[0mimg_new\u001b[0m\u001b[0;34m[\u001b[0m\u001b[0mi\u001b[0m\u001b[0;34m+\u001b[0m\u001b[0;36m1\u001b[0m\u001b[0;34m,\u001b[0m\u001b[0mj\u001b[0m\u001b[0;34m]\u001b[0m\u001b[0;34m)\u001b[0m\u001b[0;34m\u001b[0m\u001b[0;34m\u001b[0m\u001b[0m\n\u001b[0m\u001b[1;32m      3\u001b[0m     \u001b[0ma\u001b[0m\u001b[0;34m=\u001b[0m \u001b[0mnp\u001b[0m\u001b[0;34m.\u001b[0m\u001b[0mmin\u001b[0m \u001b[0;34m(\u001b[0m\u001b[0mimg_new\u001b[0m\u001b[0;34m[\u001b[0m\u001b[0mi\u001b[0m\u001b[0;34m,\u001b[0m\u001b[0mj\u001b[0m\u001b[0;34m-\u001b[0m\u001b[0;36m1\u001b[0m\u001b[0;34m]\u001b[0m   \u001b[0;34m,\u001b[0m \u001b[0mimg_new\u001b[0m\u001b[0;34m[\u001b[0m\u001b[0mi\u001b[0m\u001b[0;34m,\u001b[0m\u001b[0mj\u001b[0m\u001b[0;34m+\u001b[0m\u001b[0;36m1\u001b[0m\u001b[0;34m]\u001b[0m\u001b[0;34m)\u001b[0m\u001b[0;34m\u001b[0m\u001b[0;34m\u001b[0m\u001b[0m\n\u001b[1;32m      4\u001b[0m     \u001b[0mimg_new\u001b[0m\u001b[0;34m[\u001b[0m\u001b[0mi\u001b[0m\u001b[0;34m,\u001b[0m\u001b[0mj\u001b[0m\u001b[0;34m]\u001b[0m\u001b[0;34m=\u001b[0m \u001b[0mnp\u001b[0m\u001b[0;34m.\u001b[0m\u001b[0mmin\u001b[0m\u001b[0;34m(\u001b[0m \u001b[0mimg_new\u001b[0m\u001b[0;34m[\u001b[0m\u001b[0mi\u001b[0m\u001b[0;34m,\u001b[0m\u001b[0mj\u001b[0m\u001b[0;34m]\u001b[0m\u001b[0;34m,\u001b[0m \u001b[0ma\u001b[0m\u001b[0;34m)\u001b[0m\u001b[0;34m+\u001b[0m\u001b[0;36m1\u001b[0m\u001b[0;34m\u001b[0m\u001b[0;34m\u001b[0m\u001b[0m\n\u001b[1;32m      5\u001b[0m     \u001b[0;32mreturn\u001b[0m \u001b[0mimg_new\u001b[0m\u001b[0;34m\u001b[0m\u001b[0;34m\u001b[0m\u001b[0m\n",
            "\u001b[0;32m/usr/local/lib/python3.10/dist-packages/numpy/core/fromnumeric.py\u001b[0m in \u001b[0;36mmin\u001b[0;34m(a, axis, out, keepdims, initial, where)\u001b[0m\n\u001b[1;32m   2951\u001b[0m     \u001b[0;36m6\u001b[0m\u001b[0;34m\u001b[0m\u001b[0;34m\u001b[0m\u001b[0m\n\u001b[1;32m   2952\u001b[0m     \"\"\"\n\u001b[0;32m-> 2953\u001b[0;31m     return _wrapreduction(a, np.minimum, 'min', axis, None, out,\n\u001b[0m\u001b[1;32m   2954\u001b[0m                           keepdims=keepdims, initial=initial, where=where)\n\u001b[1;32m   2955\u001b[0m \u001b[0;34m\u001b[0m\u001b[0m\n",
            "\u001b[0;32m/usr/local/lib/python3.10/dist-packages/numpy/core/fromnumeric.py\u001b[0m in \u001b[0;36m_wrapreduction\u001b[0;34m(obj, ufunc, method, axis, dtype, out, **kwargs)\u001b[0m\n\u001b[1;32m     84\u001b[0m                 \u001b[0;32mreturn\u001b[0m \u001b[0mreduction\u001b[0m\u001b[0;34m(\u001b[0m\u001b[0maxis\u001b[0m\u001b[0;34m=\u001b[0m\u001b[0maxis\u001b[0m\u001b[0;34m,\u001b[0m \u001b[0mdtype\u001b[0m\u001b[0;34m=\u001b[0m\u001b[0mdtype\u001b[0m\u001b[0;34m,\u001b[0m \u001b[0mout\u001b[0m\u001b[0;34m=\u001b[0m\u001b[0mout\u001b[0m\u001b[0;34m,\u001b[0m \u001b[0;34m**\u001b[0m\u001b[0mpasskwargs\u001b[0m\u001b[0;34m)\u001b[0m\u001b[0;34m\u001b[0m\u001b[0;34m\u001b[0m\u001b[0m\n\u001b[1;32m     85\u001b[0m             \u001b[0;32melse\u001b[0m\u001b[0;34m:\u001b[0m\u001b[0;34m\u001b[0m\u001b[0;34m\u001b[0m\u001b[0m\n\u001b[0;32m---> 86\u001b[0;31m                 \u001b[0;32mreturn\u001b[0m \u001b[0mreduction\u001b[0m\u001b[0;34m(\u001b[0m\u001b[0maxis\u001b[0m\u001b[0;34m=\u001b[0m\u001b[0maxis\u001b[0m\u001b[0;34m,\u001b[0m \u001b[0mout\u001b[0m\u001b[0;34m=\u001b[0m\u001b[0mout\u001b[0m\u001b[0;34m,\u001b[0m \u001b[0;34m**\u001b[0m\u001b[0mpasskwargs\u001b[0m\u001b[0;34m)\u001b[0m\u001b[0;34m\u001b[0m\u001b[0;34m\u001b[0m\u001b[0m\n\u001b[0m\u001b[1;32m     87\u001b[0m \u001b[0;34m\u001b[0m\u001b[0m\n\u001b[1;32m     88\u001b[0m     \u001b[0;32mreturn\u001b[0m \u001b[0mufunc\u001b[0m\u001b[0;34m.\u001b[0m\u001b[0mreduce\u001b[0m\u001b[0;34m(\u001b[0m\u001b[0mobj\u001b[0m\u001b[0;34m,\u001b[0m \u001b[0maxis\u001b[0m\u001b[0;34m,\u001b[0m \u001b[0mdtype\u001b[0m\u001b[0;34m,\u001b[0m \u001b[0mout\u001b[0m\u001b[0;34m,\u001b[0m \u001b[0;34m**\u001b[0m\u001b[0mpasskwargs\u001b[0m\u001b[0;34m)\u001b[0m\u001b[0;34m\u001b[0m\u001b[0;34m\u001b[0m\u001b[0m\n",
            "\u001b[0;32m/usr/local/lib/python3.10/dist-packages/numpy/core/_methods.py\u001b[0m in \u001b[0;36m_amin\u001b[0;34m(a, axis, out, keepdims, initial, where)\u001b[0m\n\u001b[1;32m     43\u001b[0m def _amin(a, axis=None, out=None, keepdims=False,\n\u001b[1;32m     44\u001b[0m           initial=_NoValue, where=True):\n\u001b[0;32m---> 45\u001b[0;31m     \u001b[0;32mreturn\u001b[0m \u001b[0mumr_minimum\u001b[0m\u001b[0;34m(\u001b[0m\u001b[0ma\u001b[0m\u001b[0;34m,\u001b[0m \u001b[0maxis\u001b[0m\u001b[0;34m,\u001b[0m \u001b[0;32mNone\u001b[0m\u001b[0;34m,\u001b[0m \u001b[0mout\u001b[0m\u001b[0;34m,\u001b[0m \u001b[0mkeepdims\u001b[0m\u001b[0;34m,\u001b[0m \u001b[0minitial\u001b[0m\u001b[0;34m,\u001b[0m \u001b[0mwhere\u001b[0m\u001b[0;34m)\u001b[0m\u001b[0;34m\u001b[0m\u001b[0;34m\u001b[0m\u001b[0m\n\u001b[0m\u001b[1;32m     46\u001b[0m \u001b[0;34m\u001b[0m\u001b[0m\n\u001b[1;32m     47\u001b[0m def _sum(a, axis=None, dtype=None, out=None, keepdims=False,\n",
            "\u001b[0;31mAxisError\u001b[0m: axis 1 is out of bounds for array of dimension 0"
          ]
        }
      ]
    },
    {
      "cell_type": "code",
      "source": [
        "img = read_file('binary1.tiff') / 255\n",
        "img_n = skeletonizeImage(img)\n",
        "plot_images(img, img_n)"
      ],
      "metadata": {
        "id": "290qikfjwyb-"
      },
      "execution_count": null,
      "outputs": []
    },
    {
      "cell_type": "code",
      "source": [
        "img = read_file('binary2.tiff') / 255\n",
        "img_n = skeletonizeImage(img)\n",
        "plot_images(img, img_n)"
      ],
      "metadata": {
        "id": "MPOFzLGXw9D5"
      },
      "execution_count": null,
      "outputs": []
    },
    {
      "cell_type": "code",
      "source": [],
      "metadata": {
        "id": "ZrOObu8SxDYs"
      },
      "execution_count": null,
      "outputs": []
    }
  ]
}